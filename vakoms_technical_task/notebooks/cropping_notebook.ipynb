{
 "cells": [
  {
   "cell_type": "code",
   "execution_count": 23,
   "id": "a81106da-7926-43ab-8203-9984401f005e",
   "metadata": {},
   "outputs": [],
   "source": [
    "import pandas as pd\n",
    "import os\n",
    "import tensorflow as tf\n",
    "import numpy as np\n",
    "import shutil"
   ]
  },
  {
   "cell_type": "code",
   "execution_count": 9,
   "id": "365f00cd-5f2e-4551-991c-9c5800f44c42",
   "metadata": {},
   "outputs": [],
   "source": [
    "image_dir_path = \"../data/raw/military-aircraft-recognition-dataset/JPEGImages/\"\n",
    "csv_path =  \"../data/processed/horizontal.csv\"\n",
    "output_dir = \"../data/processed/cropped_images\""
   ]
  },
  {
   "cell_type": "code",
   "execution_count": 8,
   "id": "b791cdc7-de83-4a56-ad3f-6300da3bfd86",
   "metadata": {},
   "outputs": [
    {
     "data": {
      "text/html": [
       "<div>\n",
       "<style scoped>\n",
       "    .dataframe tbody tr th:only-of-type {\n",
       "        vertical-align: middle;\n",
       "    }\n",
       "\n",
       "    .dataframe tbody tr th {\n",
       "        vertical-align: top;\n",
       "    }\n",
       "\n",
       "    .dataframe thead th {\n",
       "        text-align: right;\n",
       "    }\n",
       "</style>\n",
       "<table border=\"1\" class=\"dataframe\">\n",
       "  <thead>\n",
       "    <tr style=\"text-align: right;\">\n",
       "      <th></th>\n",
       "      <th>Unnamed: 0</th>\n",
       "      <th>name</th>\n",
       "      <th>image_width</th>\n",
       "      <th>image_height</th>\n",
       "      <th>class</th>\n",
       "      <th>xmin</th>\n",
       "      <th>ymin</th>\n",
       "      <th>xmax</th>\n",
       "      <th>ymax</th>\n",
       "    </tr>\n",
       "  </thead>\n",
       "  <tbody>\n",
       "    <tr>\n",
       "      <th>0</th>\n",
       "      <td>0</td>\n",
       "      <td>1.jpg</td>\n",
       "      <td>859</td>\n",
       "      <td>831</td>\n",
       "      <td>A2</td>\n",
       "      <td>485</td>\n",
       "      <td>427</td>\n",
       "      <td>554</td>\n",
       "      <td>500</td>\n",
       "    </tr>\n",
       "    <tr>\n",
       "      <th>1</th>\n",
       "      <td>1</td>\n",
       "      <td>1.jpg</td>\n",
       "      <td>859</td>\n",
       "      <td>831</td>\n",
       "      <td>A2</td>\n",
       "      <td>694</td>\n",
       "      <td>487</td>\n",
       "      <td>770</td>\n",
       "      <td>562</td>\n",
       "    </tr>\n",
       "    <tr>\n",
       "      <th>2</th>\n",
       "      <td>2</td>\n",
       "      <td>1.jpg</td>\n",
       "      <td>859</td>\n",
       "      <td>831</td>\n",
       "      <td>A10</td>\n",
       "      <td>58</td>\n",
       "      <td>205</td>\n",
       "      <td>134</td>\n",
       "      <td>285</td>\n",
       "    </tr>\n",
       "    <tr>\n",
       "      <th>3</th>\n",
       "      <td>3</td>\n",
       "      <td>10.jpg</td>\n",
       "      <td>752</td>\n",
       "      <td>834</td>\n",
       "      <td>A2</td>\n",
       "      <td>510</td>\n",
       "      <td>44</td>\n",
       "      <td>635</td>\n",
       "      <td>149</td>\n",
       "    </tr>\n",
       "    <tr>\n",
       "      <th>4</th>\n",
       "      <td>4</td>\n",
       "      <td>10.jpg</td>\n",
       "      <td>752</td>\n",
       "      <td>834</td>\n",
       "      <td>A2</td>\n",
       "      <td>497</td>\n",
       "      <td>354</td>\n",
       "      <td>618</td>\n",
       "      <td>459</td>\n",
       "    </tr>\n",
       "    <tr>\n",
       "      <th>...</th>\n",
       "      <td>...</td>\n",
       "      <td>...</td>\n",
       "      <td>...</td>\n",
       "      <td>...</td>\n",
       "      <td>...</td>\n",
       "      <td>...</td>\n",
       "      <td>...</td>\n",
       "      <td>...</td>\n",
       "      <td>...</td>\n",
       "    </tr>\n",
       "    <tr>\n",
       "      <th>22336</th>\n",
       "      <td>22336</td>\n",
       "      <td>998.jpg</td>\n",
       "      <td>800</td>\n",
       "      <td>800</td>\n",
       "      <td>A12</td>\n",
       "      <td>156</td>\n",
       "      <td>677</td>\n",
       "      <td>238</td>\n",
       "      <td>728</td>\n",
       "    </tr>\n",
       "    <tr>\n",
       "      <th>22337</th>\n",
       "      <td>22337</td>\n",
       "      <td>998.jpg</td>\n",
       "      <td>800</td>\n",
       "      <td>800</td>\n",
       "      <td>A17</td>\n",
       "      <td>492</td>\n",
       "      <td>377</td>\n",
       "      <td>586</td>\n",
       "      <td>478</td>\n",
       "    </tr>\n",
       "    <tr>\n",
       "      <th>22338</th>\n",
       "      <td>22338</td>\n",
       "      <td>998.jpg</td>\n",
       "      <td>800</td>\n",
       "      <td>800</td>\n",
       "      <td>A12</td>\n",
       "      <td>477</td>\n",
       "      <td>196</td>\n",
       "      <td>561</td>\n",
       "      <td>250</td>\n",
       "    </tr>\n",
       "    <tr>\n",
       "      <th>22339</th>\n",
       "      <td>22339</td>\n",
       "      <td>999.jpg</td>\n",
       "      <td>800</td>\n",
       "      <td>800</td>\n",
       "      <td>A14</td>\n",
       "      <td>419</td>\n",
       "      <td>111</td>\n",
       "      <td>568</td>\n",
       "      <td>269</td>\n",
       "    </tr>\n",
       "    <tr>\n",
       "      <th>22340</th>\n",
       "      <td>22340</td>\n",
       "      <td>999.jpg</td>\n",
       "      <td>800</td>\n",
       "      <td>800</td>\n",
       "      <td>A11</td>\n",
       "      <td>492</td>\n",
       "      <td>483</td>\n",
       "      <td>642</td>\n",
       "      <td>650</td>\n",
       "    </tr>\n",
       "  </tbody>\n",
       "</table>\n",
       "<p>22341 rows × 9 columns</p>\n",
       "</div>"
      ],
      "text/plain": [
       "       Unnamed: 0     name  image_width  image_height class  xmin  ymin  xmax  \\\n",
       "0               0    1.jpg          859           831    A2   485   427   554   \n",
       "1               1    1.jpg          859           831    A2   694   487   770   \n",
       "2               2    1.jpg          859           831   A10    58   205   134   \n",
       "3               3   10.jpg          752           834    A2   510    44   635   \n",
       "4               4   10.jpg          752           834    A2   497   354   618   \n",
       "...           ...      ...          ...           ...   ...   ...   ...   ...   \n",
       "22336       22336  998.jpg          800           800   A12   156   677   238   \n",
       "22337       22337  998.jpg          800           800   A17   492   377   586   \n",
       "22338       22338  998.jpg          800           800   A12   477   196   561   \n",
       "22339       22339  999.jpg          800           800   A14   419   111   568   \n",
       "22340       22340  999.jpg          800           800   A11   492   483   642   \n",
       "\n",
       "       ymax  \n",
       "0       500  \n",
       "1       562  \n",
       "2       285  \n",
       "3       149  \n",
       "4       459  \n",
       "...     ...  \n",
       "22336   728  \n",
       "22337   478  \n",
       "22338   250  \n",
       "22339   269  \n",
       "22340   650  \n",
       "\n",
       "[22341 rows x 9 columns]"
      ]
     },
     "execution_count": 8,
     "metadata": {},
     "output_type": "execute_result"
    }
   ],
   "source": [
    "df = pd.read_csv(csv_path)\n",
    "df"
   ]
  },
  {
   "cell_type": "code",
   "execution_count": 6,
   "id": "70fc45e4-3919-4b16-af49-282db649c9a2",
   "metadata": {},
   "outputs": [
    {
     "data": {
      "text/plain": [
       "array(['A2', 'A10', 'A3', 'A19', 'A1', 'A13', 'A20', 'A15', 'A16', 'A17',\n",
       "       'A12', 'A5', 'A14', 'A7', 'A9', 'A4', 'A18', 'A8', 'A11', 'A6'],\n",
       "      dtype=object)"
      ]
     },
     "execution_count": 6,
     "metadata": {},
     "output_type": "execute_result"
    }
   ],
   "source": [
    "class_labels = df['class'].unique()\n",
    "class_labels"
   ]
  },
  {
   "cell_type": "code",
   "execution_count": 12,
   "id": "8e072a04-eee0-457a-a5b0-fc9bc9329178",
   "metadata": {},
   "outputs": [],
   "source": [
    "for class_label in class_labels:\n",
    "    class_directory = os.path.join(output_dir, class_label)\n",
    "    os.makedirs(class_directory, exist_ok=True)"
   ]
  },
  {
   "cell_type": "code",
   "execution_count": 14,
   "id": "7f41521a-5336-4fe3-936a-9442aa3c3c87",
   "metadata": {},
   "outputs": [
    {
     "data": {
      "text/plain": [
       "0        ../data/raw/military-aircraft-recognition-data...\n",
       "1        ../data/raw/military-aircraft-recognition-data...\n",
       "2        ../data/raw/military-aircraft-recognition-data...\n",
       "3        ../data/raw/military-aircraft-recognition-data...\n",
       "4        ../data/raw/military-aircraft-recognition-data...\n",
       "                               ...                        \n",
       "22336    ../data/raw/military-aircraft-recognition-data...\n",
       "22337    ../data/raw/military-aircraft-recognition-data...\n",
       "22338    ../data/raw/military-aircraft-recognition-data...\n",
       "22339    ../data/raw/military-aircraft-recognition-data...\n",
       "22340    ../data/raw/military-aircraft-recognition-data...\n",
       "Name: name, Length: 22341, dtype: object"
      ]
     },
     "execution_count": 14,
     "metadata": {},
     "output_type": "execute_result"
    }
   ],
   "source": [
    "image_paths = image_dir_path + df[\"name\"]\n",
    "image_paths"
   ]
  },
  {
   "cell_type": "code",
   "execution_count": 17,
   "id": "4306fd25-12aa-4319-97cf-41db8547f83f",
   "metadata": {},
   "outputs": [],
   "source": [
    "xmin = np.array(df[\"xmin\"])\n",
    "ymin = np.array(df[\"ymin\"]) \n",
    "xmax = np.array(df[\"xmax\"]) \n",
    "ymax = np.array(df[\"ymax\"]) "
   ]
  },
  {
   "cell_type": "code",
   "execution_count": 22,
   "id": "3ef196bc-7b2b-4857-8428-2683b785968c",
   "metadata": {},
   "outputs": [],
   "source": [
    "for i, image_path in enumerate(image_paths):\n",
    "    try:\n",
    "        image = tf.io.read_file(image_path)\n",
    "    except:\n",
    "        continue\n",
    "    image = tf.image.decode_image(image, channels=3)\n",
    "    cropped_image = tf.image.crop_to_bounding_box(image, ymin[i], xmin[i], ymax[i] - ymin[i], xmax[i] - xmin[i])\n",
    "    tf.keras.utils.save_img(os.path.join(output_dir, df[\"class\"][i], str(i)+\".jpg\"), cropped_image)"
   ]
  },
  {
   "cell_type": "code",
   "execution_count": 25,
   "id": "4cd66973-a41e-4c88-a472-8df1c935819a",
   "metadata": {},
   "outputs": [
    {
     "data": {
      "text/plain": [
       "'C:\\\\Users\\\\Biggi Mombassa\\\\Documents\\\\vakoms\\\\Vakoms_technical_task\\\\vakoms_technical_task\\\\data\\\\processed\\\\cropped_images.zip'"
      ]
     },
     "execution_count": 25,
     "metadata": {},
     "output_type": "execute_result"
    }
   ],
   "source": [
    "shutil.make_archive(output_dir, 'zip',output_dir)"
   ]
  },
  {
   "cell_type": "code",
   "execution_count": null,
   "id": "acb62883-0b84-4478-a751-185eaf41eb23",
   "metadata": {},
   "outputs": [],
   "source": []
  }
 ],
 "metadata": {
  "kernelspec": {
   "display_name": "Python 3 (ipykernel)",
   "language": "python",
   "name": "python3"
  },
  "language_info": {
   "codemirror_mode": {
    "name": "ipython",
    "version": 3
   },
   "file_extension": ".py",
   "mimetype": "text/x-python",
   "name": "python",
   "nbconvert_exporter": "python",
   "pygments_lexer": "ipython3",
   "version": "3.10.9"
  }
 },
 "nbformat": 4,
 "nbformat_minor": 5
}
